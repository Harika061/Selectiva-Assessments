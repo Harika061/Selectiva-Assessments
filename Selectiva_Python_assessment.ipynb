{
 "cells": [
  {
   "cell_type": "markdown",
   "id": "92154e79",
   "metadata": {},
   "source": [
    "### 1. Read the Json file and print value for key = crew"
   ]
  },
  {
   "cell_type": "code",
   "execution_count": 1,
   "id": "a1f3b770",
   "metadata": {},
   "outputs": [
    {
     "name": "stdout",
     "output_type": "stream",
     "text": [
      "FLOAT\n"
     ]
    }
   ],
   "source": [
    "import requests\n",
    "import json\n",
    "\n",
    "url = \"https://raw.githubusercontent.com/bhargav-velisetti/flink_examples/master/data/cruise_ship_schema.json\"\n",
    "\n",
    "response = requests.get(url)\n",
    "data = response.json()\n",
    "\n",
    "print(data.get('crew'))\n"
   ]
  },
  {
   "cell_type": "markdown",
   "id": "7a14115d",
   "metadata": {},
   "source": [
    "### 2. Read this json file, loop over it and print values for the key = firstName"
   ]
  },
  {
   "cell_type": "code",
   "execution_count": 2,
   "id": "9814c9a6",
   "metadata": {},
   "outputs": [
    {
     "name": "stdout",
     "output_type": "stream",
     "text": [
      "John1\n",
      "John2\n"
     ]
    }
   ],
   "source": [
    "import requests\n",
    "import json\n",
    "\n",
    "def print_first_names():\n",
    "    url = 'https://raw.githubusercontent.com/bhargav-velisetti/apache_beam_examples_java/master/data/sample-data.json'\n",
    "    \n",
    "    response = requests.get(url)\n",
    "    \n",
    "    if response.status_code == 200:\n",
    "        json_lines = response.text.strip().split(\"\\n\")\n",
    "        \n",
    "        for line in json_lines:\n",
    "            try:\n",
    "                person = json.loads(line)\n",
    "                print(person['firstName'])\n",
    "            except json.JSONDecodeError as e:\n",
    "                print(f\"Error parsing line: {e}\")\n",
    "    else:\n",
    "        print(f\"Failed to fetch data. Status code: {response.status_code}\")\n",
    "\n",
    "print_first_names()\n"
   ]
  },
  {
   "cell_type": "markdown",
   "id": "34d2218f",
   "metadata": {},
   "source": [
    "### 3. Print 5th element"
   ]
  },
  {
   "cell_type": "code",
   "execution_count": 3,
   "id": "4966e1b6",
   "metadata": {},
   "outputs": [
    {
     "name": "stdout",
     "output_type": "stream",
     "text": [
      "5\n"
     ]
    }
   ],
   "source": [
    "list = [1,2,3,4,5,6]\n",
    "print(list[4])"
   ]
  },
  {
   "cell_type": "markdown",
   "id": "0da89de3",
   "metadata": {},
   "source": [
    "### 4. Last three elements"
   ]
  },
  {
   "cell_type": "code",
   "execution_count": 4,
   "id": "5ccde8ed",
   "metadata": {},
   "outputs": [
    {
     "name": "stdout",
     "output_type": "stream",
     "text": [
      "[4, 5, 6]\n"
     ]
    }
   ],
   "source": [
    "list = [1,2,3,4,5,6]\n",
    "print(list[-3:])"
   ]
  },
  {
   "cell_type": "markdown",
   "id": "c9312265",
   "metadata": {},
   "source": [
    "### 5. Print Len of the list dict_a = {'a':1,'b':2}"
   ]
  },
  {
   "cell_type": "code",
   "execution_count": 5,
   "id": "fa4d08c4",
   "metadata": {},
   "outputs": [
    {
     "name": "stdout",
     "output_type": "stream",
     "text": [
      "2\n"
     ]
    }
   ],
   "source": [
    "dict = {'a':1,'b':2}\n",
    "print(len(dict))"
   ]
  },
  {
   "cell_type": "markdown",
   "id": "8dd3e167",
   "metadata": {},
   "source": [
    "### 6. Print keys of the the dictionary dict_a"
   ]
  },
  {
   "cell_type": "code",
   "execution_count": 6,
   "id": "9b72339f",
   "metadata": {},
   "outputs": [
    {
     "name": "stdout",
     "output_type": "stream",
     "text": [
      "dict_keys(['a', 'b'])\n"
     ]
    }
   ],
   "source": [
    "print(dict.keys())"
   ]
  },
  {
   "cell_type": "markdown",
   "id": "192a60ae",
   "metadata": {},
   "source": [
    "### 7. Print values of the dictionary dict_a"
   ]
  },
  {
   "cell_type": "code",
   "execution_count": 7,
   "id": "c6fb185e",
   "metadata": {},
   "outputs": [
    {
     "name": "stdout",
     "output_type": "stream",
     "text": [
      "dict_values([1, 2])\n"
     ]
    }
   ],
   "source": [
    "print(dict.values())"
   ]
  },
  {
   "cell_type": "markdown",
   "id": "b26ee61e",
   "metadata": {},
   "source": [
    "### 8. Print value of the key = b"
   ]
  },
  {
   "cell_type": "code",
   "execution_count": 8,
   "id": "16118026",
   "metadata": {},
   "outputs": [
    {
     "name": "stdout",
     "output_type": "stream",
     "text": [
      "2\n"
     ]
    }
   ],
   "source": [
    "print(dict['b'])"
   ]
  },
  {
   "cell_type": "markdown",
   "id": "321b0ee4",
   "metadata": {},
   "source": [
    "### 9. Pass Python Command Line args"
   ]
  },
  {
   "cell_type": "code",
   "execution_count": 9,
   "id": "1fd36488",
   "metadata": {},
   "outputs": [
    {
     "name": "stdout",
     "output_type": "stream",
     "text": [
      "Hello\n",
      "World\n",
      "!\n"
     ]
    }
   ],
   "source": [
    "%run parse_cl_args.py \"Hello World !\""
   ]
  },
  {
   "cell_type": "markdown",
   "id": "12b43248",
   "metadata": {},
   "source": [
    "### 10. Request library for rest calls Please develop two python functions to download GitHub Activity History files using Python3 requests library. End Point = https://data.gharchive.org/2015-01-01-{0..23}.json.gzAPI Documentation can be found here = https://www.gharchive.org/\n"
   ]
  },
  {
   "cell_type": "code",
   "execution_count": 10,
   "id": "e30bb35c",
   "metadata": {},
   "outputs": [
    {
     "name": "stdout",
     "output_type": "stream",
     "text": [
      "Downloaded file and saved at: /Users/harikaboyina/Downloads/2023-03-01-10.json.gz\n"
     ]
    },
    {
     "data": {
      "text/plain": [
       "'/Users/harikaboyina/Downloads/2023-03-01-10.json.gz'"
      ]
     },
     "execution_count": 10,
     "metadata": {},
     "output_type": "execute_result"
    }
   ],
   "source": [
    "import requests\n",
    "import os\n",
    "\n",
    "def download_gh():\n",
    "    # URL for the GitHub Archive for March 01, 2023, 10 AM\n",
    "    url = \"https://data.gharchive.org/2023-03-01-10.json.gz\"\n",
    "    \n",
    "    # File path to save the file locally\n",
    "    local_filename = os.path.join(os.getcwd(), '2023-03-01-10.json.gz')\n",
    "    \n",
    "    # Send the GET request to download the file\n",
    "    response = requests.get(url, stream=True)\n",
    "    \n",
    "    # Check if the request was successful (status code 200)\n",
    "    if response.status_code == 200:\n",
    "        # Open the file in binary write mode and write the content\n",
    "        with open(local_filename, 'wb') as f:\n",
    "            f.write(response.content)\n",
    "        print(f\"Downloaded file and saved at: {local_filename}\")\n",
    "        return local_filename\n",
    "    else:\n",
    "        raise Exception(f\"Failed to download the file. Status code: {response.status_code}\")\n",
    "\n",
    "# Test the download function\n",
    "download_gh()\n"
   ]
  },
  {
   "cell_type": "code",
   "execution_count": 11,
   "id": "289612ba",
   "metadata": {},
   "outputs": [],
   "source": [
    "import os\n",
    "import pytest\n",
    "import requests\n",
    "\n",
    "# The function that downloads the file\n",
    "def download_gh():\n",
    "    url = \"https://data.gharchive.org/2023-03-01-10.json.gz\"\n",
    "    local_filename = '/Users/harikaboyina/Downloads/2023-03-01-10.json.gz'\n",
    "\n",
    "    response = requests.get(url, stream=True)\n",
    "    \n",
    "    if response.status_code == 200:\n",
    "        with open(local_filename, 'wb') as f:\n",
    "            f.write(response.content)\n",
    "        return local_filename\n",
    "    else:\n",
    "        raise Exception(f\"Failed to download the file. Status code: {response.status_code}\")\n",
    "\n",
    "# Unit test function using pytest\n",
    "def test_download_gh():\n",
    "    # Call the download function\n",
    "    file_path = download_gh()\n",
    "\n",
    "    # Assert that the file path is not None\n",
    "    assert file_path is not None, \"File path should not be None.\"\n",
    "\n",
    "    # Assert that the file exists\n",
    "    assert os.path.exists(file_path), \"Downloaded file should exist.\"\n",
    "\n",
    "    # Assert that the file is not empty\n",
    "    assert os.path.getsize(file_path) > 0, \"Downloaded file should not be empty.\"\n",
    "\n",
    "    # Clean up by removing the downloaded file after the test\n",
    "    if os.path.exists(file_path):\n",
    "        os.remove(file_path)\n"
   ]
  },
  {
   "cell_type": "code",
   "execution_count": 12,
   "id": "9d54a439",
   "metadata": {},
   "outputs": [
    {
     "name": "stdout",
     "output_type": "stream",
     "text": [
      "\u001b[1m============================= test session starts ==============================\u001b[0m\n",
      "platform darwin -- Python 3.11.8, pytest-7.4.0, pluggy-1.0.0\n",
      "rootdir: /Users/harikaboyina/Downloads\n",
      "plugins: anyio-3.5.0, typeguard-2.13.3\n",
      "collected 1 item                                                               \u001b[0m\n",
      "\n",
      "test_download.py \u001b[32m.\u001b[0m\u001b[32m                                                       [100%]\u001b[0m\n",
      "\n",
      "\u001b[32m============================== \u001b[32m\u001b[1m1 passed\u001b[0m\u001b[32m in 2.79s\u001b[0m\u001b[32m ===============================\u001b[0m\n"
     ]
    }
   ],
   "source": [
    "!pytest test_download.py\n"
   ]
  },
  {
   "cell_type": "code",
   "execution_count": null,
   "id": "15586e8d",
   "metadata": {},
   "outputs": [],
   "source": []
  }
 ],
 "metadata": {
  "kernelspec": {
   "display_name": "Python 3 (ipykernel)",
   "language": "python",
   "name": "python3"
  },
  "language_info": {
   "codemirror_mode": {
    "name": "ipython",
    "version": 3
   },
   "file_extension": ".py",
   "mimetype": "text/x-python",
   "name": "python",
   "nbconvert_exporter": "python",
   "pygments_lexer": "ipython3",
   "version": "3.11.8"
  }
 },
 "nbformat": 4,
 "nbformat_minor": 5
}
